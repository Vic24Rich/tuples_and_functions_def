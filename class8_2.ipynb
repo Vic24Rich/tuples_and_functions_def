{
  "cells": [
    {
      "cell_type": "markdown",
      "metadata": {
        "id": "view-in-github",
        "colab_type": "text"
      },
      "source": [
        "<a href=\"https://colab.research.google.com/github/Vic24Rich/tuples_and_functions_def/blob/main/class8_2.ipynb\" target=\"_parent\"><img src=\"https://colab.research.google.com/assets/colab-badge.svg\" alt=\"Open In Colab\"/></a>"
      ]
    },
    {
      "cell_type": "code",
      "execution_count": null,
      "metadata": {
        "colab": {
          "base_uri": "https://localhost:8080/"
        },
        "id": "Eh2Jo8rw9FUD",
        "outputId": "1d9c2828-8560-4493-c95f-b961c0bbeddd"
      },
      "outputs": [
        {
          "name": "stdout",
          "output_type": "stream",
          "text": [
            "Digite um Numero a Subtrair:25\n",
            "Digite um Numero a Subtrair:6\n",
            "Este é o resultado:19.0\n"
          ]
        }
      ],
      "source": [
        "#1 CRIE UMA FUNÇÃO PARA SUBTRAIR DOIS NÚMEROS\n",
        "def subtracao():\n",
        "  x1 = float(input('Digite um Numero a Subtrair:'))\n",
        "  y1 = float(input('Digite um Numero a Subtrair:'))\n",
        "\n",
        "  print(f'Este é o resultado:{x1-y1}')\n",
        "subtracao()\n"
      ]
    },
    {
      "cell_type": "code",
      "execution_count": null,
      "metadata": {
        "colab": {
          "base_uri": "https://localhost:8080/"
        },
        "id": "Q92LaAtH_fvG",
        "outputId": "cadf8031-1ecf-4c20-dff3-0071582b5c9d"
      },
      "outputs": [
        {
          "name": "stdout",
          "output_type": "stream",
          "text": [
            "Digite um Numero a Subtrair:3.1415926535\n",
            "Digite um Numero a Subtrair:256\n",
            "Este é o resultado:259.1415926535\n"
          ]
        }
      ],
      "source": [
        "#2 CRIE UMA FUNÇÃO PARA SOMAR DOIS NÚMEROS\n",
        "def subtracao2():\n",
        "  x2 = float(input('Digite um Numero a Somar:'))\n",
        "  y2 = float(input('Digite um Numero a Somar:'))\n",
        "\n",
        "  print(f'Este é o resultado:{x2+y2}')\n",
        "subtracao2()\n"
      ]
    },
    {
      "cell_type": "code",
      "source": [
        "#3 CRIE UMA FUNÇÃO PARA DIVIDIR DOIS NÚMEROS\n",
        "def subtracao3():\n",
        "  x3 = int(input('Digite um Numero a Dividir:'))\n",
        "  y3 = int(input('Digite um Numero a Dividir:'))\n",
        "\n",
        "  if y3 == 0:\n",
        "    print('Zero não pode ser divido.')\n",
        "    x3 = int(input('Digite um Numero a Dividir:'))\n",
        "    y3 = int(input('Digite um Numero a Dividir:'))\n",
        "  print(f'Este é o resultado:{x3/y3}')\n",
        "subtracao3()"
      ],
      "metadata": {
        "colab": {
          "base_uri": "https://localhost:8080/"
        },
        "id": "MYVARYGz2YHI",
        "outputId": "47b62b6e-3973-4178-e854-6762ba65e6f6"
      },
      "execution_count": 11,
      "outputs": [
        {
          "output_type": "stream",
          "name": "stdout",
          "text": [
            "Digite um Numero a Dividir:25\n",
            "Digite um Numero a Dividir:5\n",
            "Este é o resultado:5.0\n"
          ]
        }
      ]
    },
    {
      "cell_type": "code",
      "source": [
        "#4 CRIE UMA FUNÇÃO PARA MULTIPLICAR DOIS NÚMEROS\n",
        "def subtracao4():\n",
        "  x4 = float(input('Digite um Numero a Multiplicar:'))\n",
        "  y4 = float(input('Digite um Numero a Multiplicar:'))\n",
        "\n",
        "  print(f'Este é o resultado:{x4*y4}')\n",
        "subtracao4()"
      ],
      "metadata": {
        "id": "rZZRNyut2ao3"
      },
      "execution_count": null,
      "outputs": []
    },
    {
      "cell_type": "code",
      "execution_count": 7,
      "metadata": {
        "colab": {
          "base_uri": "https://localhost:8080/"
        },
        "id": "PfvwxoM1_oxc",
        "outputId": "2a556a93-c686-49aa-f37c-bdf396207b64"
      },
      "outputs": [
        {
          "output_type": "stream",
          "name": "stdout",
          "text": [
            "Digite um Numero:25\n",
            "Digite uma Operação:/\n",
            "Digite outro Numero:0\n",
            "Zero não pode ser divido.\n",
            "Digite um Numero:25\n",
            "Digite outro Numero:5\n",
            "Este é o resultado:5.0\n"
          ]
        }
      ],
      "source": [
        "#5 CRIE UMA CALCULADORA, ONDE O USUÁRIO POSSO ESCOLHER AS OPERAÇÕES\n",
        "def calc():\n",
        "  x = float(input('Digite um Numero:'))\n",
        "  operacao = input('Digite uma Operação:')\n",
        "  y = float(input('Digite outro Numero:'))\n",
        "\n",
        "  if operacao == '*':\n",
        "    print(f'Este é o resultado:{x*y}')\n",
        "  elif operacao == '+':\n",
        "    print(f'Este é o resultado:{x+y}')\n",
        "  elif operacao == '-':\n",
        "    print(f'Este é o resultado:{x-y}')\n",
        "  elif operacao == '/':\n",
        "    if y == 0:\n",
        "      print('Zero não pode ser divido.')\n",
        "      x = float(input('Digite um Numero:'))\n",
        "      y = float(input('Digite outro Numero:'))\n",
        "    print(f'Este é o resultado:{x/y}')\n",
        "calc()"
      ]
    },
    {
      "cell_type": "code",
      "source": [
        "# FEITO JUNTO COM A PROF!\n",
        "#1 CRIE UMA FUNÇÃO PARA SUBTRAIR DOIS NÚMEROS\n",
        "def sub(a,b):\n",
        "  return a-b\n",
        "\n",
        "#2 CRIE UMA FUNÇÃO PARA SOMAR DOIS NÚMEROS\n",
        "def soma(a,b):\n",
        "  return a+b\n",
        "\n",
        "#3 CRIE UMA FUNÇÃO PARA DIVIDIR DOIS NÚMEROS\n",
        "def divs(a,b):\n",
        "  if b == 0:\n",
        "    print(\"0 não é divisivel!\")\n",
        "    a = float(input(\"Digite um Número:\"))\n",
        "    b = float(input(\"Digite outro Número:\"))\n",
        "  return a/b\n",
        "\n",
        "#4 CRIE UMA FUNÇÃO PARA MULTIPLICAR DOIS NÚMEROS\n",
        "def mult(a,b):\n",
        "  return a*b\n",
        "\n",
        "#5 CRIE UMA CALCULADORA, ONDE O USUÁRIO POSSO ESCOLHER AS OPERAÇÕES\n",
        "def calc():\n",
        "  a1 = float(input(\"Digite um Número:\"))\n",
        "  lista = ['1 - Multiplicação', '2 - Subtração', '3 - Divisão', '4 - Adição']\n",
        "  for n in lista:\n",
        "    print(n)\n",
        "  x = (input('Escolha uma operação:'))\n",
        "  b1 = float(input(\"Digite outro Número:\"))\n",
        "\n",
        "  if x == '1':\n",
        "    resultado = mult(a1,b1)\n",
        "    print(f'Este é o resultado:{resultado}')\n",
        "  elif x == '2':\n",
        "    resultado = sub(a1,b1)\n",
        "    print(f'Este é o resultado:{resultado}')\n",
        "  elif x == '3':\n",
        "    resultado = divs(a1,b1)\n",
        "    print(f'Este é o resultado:{resultado}')\n",
        "  elif x == '4':\n",
        "    resultado = soma(a1,b1)\n",
        "    print(f'Este é o resultado:{resultado}')\n",
        "calc()"
      ],
      "metadata": {
        "colab": {
          "base_uri": "https://localhost:8080/"
        },
        "id": "Wjkg6QVp7C2C",
        "outputId": "fcae9855-3197-46fe-c172-cc5a2efbd40d"
      },
      "execution_count": 23,
      "outputs": [
        {
          "output_type": "stream",
          "name": "stdout",
          "text": [
            "Digite um Número:25\n",
            "1 - Multiplicação\n",
            "2 - Subtração\n",
            "3 - Divisão\n",
            "4 - Adição\n",
            "Escolha uma operação:4\n",
            "Digite outro Número:1256\n",
            "Este é o resultado:1281.0\n"
          ]
        }
      ]
    }
  ],
  "metadata": {
    "colab": {
      "provenance": [],
      "authorship_tag": "ABX9TyOC0XHRwezcuVQdQ+Wy/C/3",
      "include_colab_link": true
    },
    "kernelspec": {
      "display_name": "Python 3",
      "name": "python3"
    },
    "language_info": {
      "name": "python"
    }
  },
  "nbformat": 4,
  "nbformat_minor": 0
}